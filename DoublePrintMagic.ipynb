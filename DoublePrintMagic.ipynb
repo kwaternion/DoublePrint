{
 "cells": [
  {
   "cell_type": "code",
   "execution_count": 10,
   "metadata": {
    "ExecuteTime": {
     "end_time": "2019-08-29T17:26:08.821399Z",
     "start_time": "2019-08-29T17:26:08.800015Z"
    }
   },
   "outputs": [],
   "source": [
    "import traceback\n",
    "import sys\n",
    "import datetime as dtime\n",
    "import time\n",
    "import os\n",
    "\n",
    "from IPython.core import magic_arguments\n",
    "from IPython.core.magic import line_magic, cell_magic, line_cell_magic, Magics, magics_class\n",
    "\n",
    "# Context manager that copies stdout and any exceptions to a log file\n",
    "class DoublePrint(object):\n",
    "    \"\"\"Used to save output to sdtout and file.\n",
    "    Usage:\n",
    "    \n",
    "    with DoublePrint('/home/user/log.txt'):\n",
    "        print(\"Print stdout + Write to file\")\n",
    "    print(\"Print to stdout\")\n",
    "    \n",
    "    \"\"\" \n",
    "    def __init__(self, filepath=None):  \n",
    "        if filepath == None:\n",
    "            cwd = os.getcwd()\n",
    "            d = dtime.datetime.today()\n",
    "            filepath = d.strftime(cwd +\"/%Y-%M-%d_%H-%M-%S-%m_log.txt\")          \n",
    "        print(\"Saving logs to file:\", filepath)\n",
    "        self.stdout = sys.stdout\n",
    "        self.filepath = filepath\n",
    "        self.file = open(self.filepath, 'w')\n",
    "    \n",
    "    def __enter__(self):\n",
    "        sys.stdout = self\n",
    "\n",
    "    def __exit__(self, exc_type, exc_value, tb):\n",
    "        sys.stdout = self.stdout\n",
    "        if exc_type is not None:\n",
    "            self.file.write(traceback.format_exc())\n",
    "        self.file.close()\n",
    "\n",
    "    def write(self, data):\n",
    "        self.stdout.write(data)\n",
    "        if data.strip() != \"\":\n",
    "            self.file.write(self.stamp() + data[:1000] + \"\\n\")\n",
    "            self.file.flush()\n",
    "\n",
    "    def flush(self):\n",
    "        pass\n",
    "    \n",
    "    def stamp(self):\n",
    "        d = dtime.datetime.today()\n",
    "        string = d.strftime(\"[%Y-%M-%d %H:%M:%S] \")\n",
    "        return string\n",
    "\n",
    "@magics_class\n",
    "class MagicDoublePrint(Magics):\n",
    "\n",
    "    @cell_magic\n",
    "    def doubleprint(self, line, cell):\n",
    "        with DoublePrint():\n",
    "            self.shell.run_cell(cell)  \n",
    "\n",
    "ipy = get_ipython()\n",
    "ipy.register_magics(MagicDoublePrint)"
   ]
  },
  {
   "cell_type": "code",
   "execution_count": 12,
   "metadata": {
    "ExecuteTime": {
     "end_time": "2019-08-29T17:26:43.793668Z",
     "start_time": "2019-08-29T17:26:43.784329Z"
    }
   },
   "outputs": [
    {
     "name": "stdout",
     "output_type": "stream",
     "text": [
      "Saving logs to file: /home/pawel/projects/DoublePrint/2019-26-29_19-26-43-08_log.txt\n",
      "dupa1\n",
      "ala2\n"
     ]
    }
   ],
   "source": [
    "%%doubleprint\n",
    "\n",
    "print(\"dupa1\")\n",
    "print(\"ala2\")"
   ]
  },
  {
   "cell_type": "code",
   "execution_count": null,
   "metadata": {},
   "outputs": [],
   "source": []
  }
 ],
 "metadata": {
  "kernelspec": {
   "display_name": "Python 3",
   "language": "python",
   "name": "python3"
  },
  "varInspector": {
   "cols": {
    "lenName": 16,
    "lenType": 16,
    "lenVar": 40
   },
   "kernels_config": {
    "python": {
     "delete_cmd_postfix": "",
     "delete_cmd_prefix": "del ",
     "library": "var_list.py",
     "varRefreshCmd": "print(var_dic_list())"
    },
    "r": {
     "delete_cmd_postfix": ") ",
     "delete_cmd_prefix": "rm(",
     "library": "var_list.r",
     "varRefreshCmd": "cat(var_dic_list()) "
    }
   },
   "types_to_exclude": [
    "module",
    "function",
    "builtin_function_or_method",
    "instance",
    "_Feature"
   ],
   "window_display": false
  }
 },
 "nbformat": 4,
 "nbformat_minor": 2
}
