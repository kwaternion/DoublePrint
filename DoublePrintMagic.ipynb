{
 "cells": [
  {
   "cell_type": "code",
   "execution_count": 76,
   "metadata": {
    "ExecuteTime": {
     "end_time": "2019-08-29T17:57:48.105048Z",
     "start_time": "2019-08-29T17:57:48.078017Z"
    }
   },
   "outputs": [],
   "source": [
    "import traceback\n",
    "import sys\n",
    "import datetime as dtime\n",
    "import time\n",
    "import os\n",
    "\n",
    "from IPython.core import magic_arguments\n",
    "from IPython.core.magic import line_magic, cell_magic, line_cell_magic, Magics, magics_class\n",
    "\n",
    "# Context manager that copies stdout and any exceptions to a log file\n",
    "class DoublePrint(object):\n",
    "    \"\"\"Used to save output to sdtout and file.\n",
    "    Usage: \n",
    "    with DoublePrint():\n",
    "        print(\"Print stdout + Write to file\")\n",
    "    print(\"Print to stdout\")\n",
    "    \n",
    "    \"\"\" \n",
    "    def __init__(self, filepath=None):  \n",
    "        if filepath == None:\n",
    "            cwd = os.getcwd()\n",
    "            d = dtime.datetime.today()\n",
    "            filepath = d.strftime(cwd +\"/%Y-%M-%d_%H-%M-%S-%m_log.txt\")          \n",
    "        print(\"Saving logs to file:\", filepath)\n",
    "        self.stdout = sys.stdout\n",
    "        self.filepath = filepath\n",
    "        self.file = open(self.filepath, 'w')\n",
    "    \n",
    "    def __enter__(self):\n",
    "        sys.stdout = self\n",
    "\n",
    "    def __exit__(self, exc_type, exc_value, tb):\n",
    "        sys.stdout = self.stdout\n",
    "        if exc_type is not None:\n",
    "            self.file.write(traceback.format_exc())\n",
    "        self.file.close()\n",
    "\n",
    "    def write(self, data):\n",
    "        self.stdout.write(data)\n",
    "        if data.strip() != \"\":\n",
    "            self.file.write(self.stamp() + data[:1000] + \"\\n\")\n",
    "            self.file.flush()\n",
    "\n",
    "    def flush(self):\n",
    "        pass\n",
    "    \n",
    "    def stamp(self):\n",
    "        d = dtime.datetime.today()\n",
    "        string = d.strftime(\"[%Y-%M-%d %H:%M:%S] \")\n",
    "        return string\n",
    "\n",
    "@magics_class\n",
    "class MagicDoublePrint(Magics):\n",
    "\n",
    "    @line_cell_magic\n",
    "    def doubleprint(self, line, cell=None):\n",
    "        \"Magic that works both as %lcmagic and as %%lcmagic\"\n",
    "        print(\"ss\")\n",
    "        print(self.namespace[line[1:]].split('.')[0])\n",
    "        with DoublePrint():\n",
    "            if cell is None:\n",
    "                self.shell.run_cell(line)\n",
    "            else:\n",
    "                self.shell.run_cell(cell)\n",
    "\n",
    "ipy = get_ipython()\n",
    "ipy.register_magics(MagicDoublePrint)"
   ]
  },
  {
   "cell_type": "code",
   "execution_count": 77,
   "metadata": {
    "ExecuteTime": {
     "end_time": "2019-08-29T17:57:48.778283Z",
     "start_time": "2019-08-29T17:57:48.756356Z"
    }
   },
   "outputs": [
    {
     "name": "stdout",
     "output_type": "stream",
     "text": [
      "ss\n"
     ]
    },
    {
     "ename": "AttributeError",
     "evalue": "'MagicDoublePrint' object has no attribute 'namespace'",
     "output_type": "error",
     "traceback": [
      "\u001b[0;31m---------------------------------------------------------------------------\u001b[0m",
      "\u001b[0;31mAttributeError\u001b[0m                            Traceback (most recent call last)",
      "\u001b[0;32m<ipython-input-77-0eb45e917035>\u001b[0m in \u001b[0;36m<module>\u001b[0;34m\u001b[0m\n\u001b[0;32m----> 1\u001b[0;31m \u001b[0mget_ipython\u001b[0m\u001b[0;34m(\u001b[0m\u001b[0;34m)\u001b[0m\u001b[0;34m.\u001b[0m\u001b[0mrun_cell_magic\u001b[0m\u001b[0;34m(\u001b[0m\u001b[0;34m'doubleprint'\u001b[0m\u001b[0;34m,\u001b[0m \u001b[0;34m'\"kot\"'\u001b[0m\u001b[0;34m,\u001b[0m \u001b[0;34m'print(\"dupa1\")\\nprint(\"ala2\")\\n'\u001b[0m\u001b[0;34m)\u001b[0m\u001b[0;34m\u001b[0m\u001b[0;34m\u001b[0m\u001b[0m\n\u001b[0m",
      "\u001b[0;32m~/anaconda3/lib/python3.7/site-packages/IPython/core/interactiveshell.py\u001b[0m in \u001b[0;36mrun_cell_magic\u001b[0;34m(self, magic_name, line, cell)\u001b[0m\n\u001b[1;32m   2350\u001b[0m             \u001b[0;32mwith\u001b[0m \u001b[0mself\u001b[0m\u001b[0;34m.\u001b[0m\u001b[0mbuiltin_trap\u001b[0m\u001b[0;34m:\u001b[0m\u001b[0;34m\u001b[0m\u001b[0;34m\u001b[0m\u001b[0m\n\u001b[1;32m   2351\u001b[0m                 \u001b[0margs\u001b[0m \u001b[0;34m=\u001b[0m \u001b[0;34m(\u001b[0m\u001b[0mmagic_arg_s\u001b[0m\u001b[0;34m,\u001b[0m \u001b[0mcell\u001b[0m\u001b[0;34m)\u001b[0m\u001b[0;34m\u001b[0m\u001b[0;34m\u001b[0m\u001b[0m\n\u001b[0;32m-> 2352\u001b[0;31m                 \u001b[0mresult\u001b[0m \u001b[0;34m=\u001b[0m \u001b[0mfn\u001b[0m\u001b[0;34m(\u001b[0m\u001b[0;34m*\u001b[0m\u001b[0margs\u001b[0m\u001b[0;34m,\u001b[0m \u001b[0;34m**\u001b[0m\u001b[0mkwargs\u001b[0m\u001b[0;34m)\u001b[0m\u001b[0;34m\u001b[0m\u001b[0;34m\u001b[0m\u001b[0m\n\u001b[0m\u001b[1;32m   2353\u001b[0m             \u001b[0;32mreturn\u001b[0m \u001b[0mresult\u001b[0m\u001b[0;34m\u001b[0m\u001b[0;34m\u001b[0m\u001b[0m\n\u001b[1;32m   2354\u001b[0m \u001b[0;34m\u001b[0m\u001b[0m\n",
      "\u001b[0;32m</home/pawel/anaconda3/lib/python3.7/site-packages/decorator.py:decorator-gen-158>\u001b[0m in \u001b[0;36mdoubleprint\u001b[0;34m(self, line, cell)\u001b[0m\n",
      "\u001b[0;32m~/anaconda3/lib/python3.7/site-packages/IPython/core/magic.py\u001b[0m in \u001b[0;36m<lambda>\u001b[0;34m(f, *a, **k)\u001b[0m\n\u001b[1;32m    185\u001b[0m     \u001b[0;31m# but it's overkill for just that one bit of state.\u001b[0m\u001b[0;34m\u001b[0m\u001b[0;34m\u001b[0m\u001b[0;34m\u001b[0m\u001b[0m\n\u001b[1;32m    186\u001b[0m     \u001b[0;32mdef\u001b[0m \u001b[0mmagic_deco\u001b[0m\u001b[0;34m(\u001b[0m\u001b[0marg\u001b[0m\u001b[0;34m)\u001b[0m\u001b[0;34m:\u001b[0m\u001b[0;34m\u001b[0m\u001b[0;34m\u001b[0m\u001b[0m\n\u001b[0;32m--> 187\u001b[0;31m         \u001b[0mcall\u001b[0m \u001b[0;34m=\u001b[0m \u001b[0;32mlambda\u001b[0m \u001b[0mf\u001b[0m\u001b[0;34m,\u001b[0m \u001b[0;34m*\u001b[0m\u001b[0ma\u001b[0m\u001b[0;34m,\u001b[0m \u001b[0;34m**\u001b[0m\u001b[0mk\u001b[0m\u001b[0;34m:\u001b[0m \u001b[0mf\u001b[0m\u001b[0;34m(\u001b[0m\u001b[0;34m*\u001b[0m\u001b[0ma\u001b[0m\u001b[0;34m,\u001b[0m \u001b[0;34m**\u001b[0m\u001b[0mk\u001b[0m\u001b[0;34m)\u001b[0m\u001b[0;34m\u001b[0m\u001b[0;34m\u001b[0m\u001b[0m\n\u001b[0m\u001b[1;32m    188\u001b[0m \u001b[0;34m\u001b[0m\u001b[0m\n\u001b[1;32m    189\u001b[0m         \u001b[0;32mif\u001b[0m \u001b[0mcallable\u001b[0m\u001b[0;34m(\u001b[0m\u001b[0marg\u001b[0m\u001b[0;34m)\u001b[0m\u001b[0;34m:\u001b[0m\u001b[0;34m\u001b[0m\u001b[0;34m\u001b[0m\u001b[0m\n",
      "\u001b[0;32m<ipython-input-76-02ceec356bce>\u001b[0m in \u001b[0;36mdoubleprint\u001b[0;34m(self, line, cell)\u001b[0m\n\u001b[1;32m     57\u001b[0m         \u001b[0;34m\"Magic that works both as %lcmagic and as %%lcmagic\"\u001b[0m\u001b[0;34m\u001b[0m\u001b[0;34m\u001b[0m\u001b[0m\n\u001b[1;32m     58\u001b[0m         \u001b[0mprint\u001b[0m\u001b[0;34m(\u001b[0m\u001b[0;34m\"ss\"\u001b[0m\u001b[0;34m)\u001b[0m\u001b[0;34m\u001b[0m\u001b[0;34m\u001b[0m\u001b[0m\n\u001b[0;32m---> 59\u001b[0;31m         \u001b[0mprint\u001b[0m\u001b[0;34m(\u001b[0m\u001b[0mself\u001b[0m\u001b[0;34m.\u001b[0m\u001b[0mnamespace\u001b[0m\u001b[0;34m[\u001b[0m\u001b[0mline\u001b[0m\u001b[0;34m[\u001b[0m\u001b[0;36m1\u001b[0m\u001b[0;34m:\u001b[0m\u001b[0;34m]\u001b[0m\u001b[0;34m]\u001b[0m\u001b[0;34m.\u001b[0m\u001b[0msplit\u001b[0m\u001b[0;34m(\u001b[0m\u001b[0;34m'.'\u001b[0m\u001b[0;34m)\u001b[0m\u001b[0;34m[\u001b[0m\u001b[0;36m0\u001b[0m\u001b[0;34m]\u001b[0m\u001b[0;34m)\u001b[0m\u001b[0;34m\u001b[0m\u001b[0;34m\u001b[0m\u001b[0m\n\u001b[0m\u001b[1;32m     60\u001b[0m         \u001b[0;32mwith\u001b[0m \u001b[0mDoublePrint\u001b[0m\u001b[0;34m(\u001b[0m\u001b[0;34m)\u001b[0m\u001b[0;34m:\u001b[0m\u001b[0;34m\u001b[0m\u001b[0;34m\u001b[0m\u001b[0m\n\u001b[1;32m     61\u001b[0m             \u001b[0;32mif\u001b[0m \u001b[0mcell\u001b[0m \u001b[0;32mis\u001b[0m \u001b[0;32mNone\u001b[0m\u001b[0;34m:\u001b[0m\u001b[0;34m\u001b[0m\u001b[0;34m\u001b[0m\u001b[0m\n",
      "\u001b[0;31mAttributeError\u001b[0m: 'MagicDoublePrint' object has no attribute 'namespace'"
     ]
    }
   ],
   "source": [
    "%%doubleprint \"kot\"\n",
    "print(\"dupa1\")\n",
    "print(\"ala2\")"
   ]
  },
  {
   "cell_type": "code",
   "execution_count": 74,
   "metadata": {
    "ExecuteTime": {
     "end_time": "2019-08-29T17:50:09.290685Z",
     "start_time": "2019-08-29T17:50:09.273422Z"
    },
    "scrolled": true
   },
   "outputs": [
    {
     "name": "stdout",
     "output_type": "stream",
     "text": [
      "2\n",
      "Saving logs to file: /home/pawel/projects/DoublePrint/2019-50-29_19-50-09-08_log.txt\n",
      "3\n",
      "4\n"
     ]
    }
   ],
   "source": [
    "print(\"2\")\n",
    "%doubleprint print(\"3\")\n",
    "print(\"4\")"
   ]
  },
  {
   "cell_type": "code",
   "execution_count": null,
   "metadata": {},
   "outputs": [],
   "source": []
  }
 ],
 "metadata": {
  "kernelspec": {
   "display_name": "Python 3",
   "language": "python",
   "name": "python3"
  },
  "varInspector": {
   "cols": {
    "lenName": 16,
    "lenType": 16,
    "lenVar": 40
   },
   "kernels_config": {
    "python": {
     "delete_cmd_postfix": "",
     "delete_cmd_prefix": "del ",
     "library": "var_list.py",
     "varRefreshCmd": "print(var_dic_list())"
    },
    "r": {
     "delete_cmd_postfix": ") ",
     "delete_cmd_prefix": "rm(",
     "library": "var_list.r",
     "varRefreshCmd": "cat(var_dic_list()) "
    }
   },
   "types_to_exclude": [
    "module",
    "function",
    "builtin_function_or_method",
    "instance",
    "_Feature"
   ],
   "window_display": false
  }
 },
 "nbformat": 4,
 "nbformat_minor": 2
}
