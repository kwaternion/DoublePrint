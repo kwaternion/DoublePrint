{
 "cells": [
  {
   "cell_type": "code",
   "execution_count": 1,
   "metadata": {
    "ExecuteTime": {
     "end_time": "2019-08-29T20:02:26.283214Z",
     "start_time": "2019-08-29T20:02:26.248774Z"
    },
    "scrolled": true
   },
   "outputs": [],
   "source": [
    "import traceback\n",
    "import sys\n",
    "import datetime as dtime\n",
    "import os\n",
    "\n",
    "from IPython.core import magic_arguments\n",
    "from IPython.core.magic import line_magic, cell_magic, line_cell_magic, Magics, magics_class\n",
    "# https://subscription.packtpub.com/book/big_data_and_business_intelligence/9781785888632/1/ch01lvl1sec14/creating-an-ipython-extension-with-custom-magic-commands\n",
    "# Context manager that copies stdout and any exceptions to a log file\n",
    "class DoublePrint(object):\n",
    "    \"\"\"Context Manager used to save output to sdtout and file.\n",
    "    Usage: \n",
    "    with DoublePrint(filepath):\n",
    "        print(\"Print stdout + Write to file\")\n",
    "    print(\"Print to stdout\")\n",
    "    \n",
    "    \"\"\" \n",
    "    def __init__(self, filepath=None):  \n",
    "        if filepath == None:\n",
    "            cwd = os.getcwd()\n",
    "            d = dtime.datetime.today()\n",
    "            filepath = d.strftime(cwd +\"/%Y-%M-%d_%H-%M-%S-%m_log.txt\")          \n",
    "        print(\"Saving logs to file:\", filepath)\n",
    "        self.stdout = sys.stdout\n",
    "        self.filepath = filepath\n",
    "        self.file = open(self.filepath, 'w')\n",
    "    \n",
    "    def __enter__(self):\n",
    "        sys.stdout = self\n",
    "\n",
    "    def __exit__(self, exc_type, exc_value, tb):\n",
    "        sys.stdout = self.stdout\n",
    "        if exc_type is not None:\n",
    "            self.file.write(traceback.format_exc())\n",
    "        self.file.close()\n",
    "\n",
    "    def write(self, data):\n",
    "        self.stdout.write(data)\n",
    "        if data.strip() != \"\":\n",
    "            self.file.write(self.stamp() + data[:1000] + \"\\n\")\n",
    "            self.file.flush()\n",
    "\n",
    "    def flush(self):\n",
    "        pass\n",
    "    \n",
    "    def stamp(self):\n",
    "        d = dtime.datetime.today()\n",
    "        string = d.strftime(\"[%Y-%M-%d %H:%M:%S] \")\n",
    "        return string\n",
    "\n",
    "@magics_class\n",
    "class MagicDoublePrint(Magics):\n",
    "    \n",
    "    @line_cell_magic\n",
    "    def doubleprint(self, line, cell=None):\n",
    "        \"\"\"Magic function used to stream output of std.out to log file.\n",
    "        This magic can be used as line_magic or cell_magic.\n",
    "        In case of cell magic, an additional parameter defining log file path can be passed.\n",
    "        As a parameter path str or variable (pointing at string path) can be used.\n",
    "        Otherwise file (with current timestamp name) in the current directory will be created.\n",
    "        This function is especially useful, when performing long calculations on Jupyter notebook.\n",
    "        Often connection is close, and regular output is lost. In that case doubleprint allows to \n",
    "        check current status of the output by reading content of the log file.\n",
    "        Usage:\n",
    "        %%doubleprint \"myLogFile.txt\"\n",
    "        print(\"log printed to stdout and to myLogFile.txt\")\n",
    "        \"\"\"\n",
    "        if cell is None:\n",
    "            with DoublePrint():\n",
    "                self.shell.run_cell(line)\n",
    "        else:\n",
    "            line = line.strip()\n",
    "            if len(line):\n",
    "                if (line[0] in [\"'\", '\"']) and (line[-1] in [\"'\", '\"']):\n",
    "                    filepath = line[1:-1]\n",
    "                elif line in self.shell.user_ns.keys():\n",
    "                    filepath = self.shell.user_ns[line]\n",
    "                else: filepath = None \n",
    "            else: \n",
    "                filepath = None        \n",
    "            with DoublePrint(filepath):\n",
    "                self.shell.run_cell(cell)\n",
    "\n",
    "ipy = get_ipython()\n",
    "ipy.register_magics(MagicDoublePrint)"
   ]
  },
  {
   "cell_type": "code",
   "execution_count": 2,
   "metadata": {
    "ExecuteTime": {
     "end_time": "2019-08-29T20:02:29.484810Z",
     "start_time": "2019-08-29T20:02:29.481552Z"
    }
   },
   "outputs": [],
   "source": [
    "import time"
   ]
  },
  {
   "cell_type": "code",
   "execution_count": 3,
   "metadata": {
    "ExecuteTime": {
     "end_time": "2019-08-29T20:02:35.662556Z",
     "start_time": "2019-08-29T20:02:30.645749Z"
    }
   },
   "outputs": [
    {
     "name": "stdout",
     "output_type": "stream",
     "text": [
      "Saving logs to file: logfile.txt\n",
      "0\n",
      "1\n",
      "2\n",
      "3\n",
      "4\n"
     ]
    }
   ],
   "source": [
    "%%doubleprint \"logfile.txt\"\n",
    "for i in range(5):\n",
    "    print(i)\n",
    "    time.sleep(1)"
   ]
  }
 ],
 "metadata": {
  "kernelspec": {
   "display_name": "Python 3",
   "language": "python",
   "name": "python3"
  },
  "language_info": {
   "codemirror_mode": {
    "name": "ipython",
    "version": 3
   },
   "file_extension": ".py",
   "mimetype": "text/x-python",
   "name": "python",
   "nbconvert_exporter": "python",
   "pygments_lexer": "ipython3",
   "version": "3.7.3"
  },
  "varInspector": {
   "cols": {
    "lenName": 16,
    "lenType": 16,
    "lenVar": 40
   },
   "kernels_config": {
    "python": {
     "delete_cmd_postfix": "",
     "delete_cmd_prefix": "del ",
     "library": "var_list.py",
     "varRefreshCmd": "print(var_dic_list())"
    },
    "r": {
     "delete_cmd_postfix": ") ",
     "delete_cmd_prefix": "rm(",
     "library": "var_list.r",
     "varRefreshCmd": "cat(var_dic_list()) "
    }
   },
   "types_to_exclude": [
    "module",
    "function",
    "builtin_function_or_method",
    "instance",
    "_Feature"
   ],
   "window_display": false
  }
 },
 "nbformat": 4,
 "nbformat_minor": 2
}
